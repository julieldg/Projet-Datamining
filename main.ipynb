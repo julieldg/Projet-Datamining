{
 "cells": [
  {
   "cell_type": "code",
   "execution_count": 7,
   "metadata": {},
   "outputs": [
    {
     "ename": "TypeError",
     "evalue": "argument of type 'NoneType' is not iterable",
     "output_type": "error",
     "traceback": [
      "\u001b[1;31m---------------------------------------------------------------------------\u001b[0m",
      "\u001b[1;31mTypeError\u001b[0m                                 Traceback (most recent call last)",
      "Cell \u001b[1;32mIn[7], line 33\u001b[0m\n\u001b[0;32m     31\u001b[0m     \u001b[38;5;28;01mif\u001b[39;00m filename\u001b[38;5;241m.\u001b[39mendswith((\u001b[38;5;124m\"\u001b[39m\u001b[38;5;124m.jpg\u001b[39m\u001b[38;5;124m\"\u001b[39m, \u001b[38;5;124m\"\u001b[39m\u001b[38;5;124m.jpeg\u001b[39m\u001b[38;5;124m\"\u001b[39m, \u001b[38;5;124m\"\u001b[39m\u001b[38;5;124m.png\u001b[39m\u001b[38;5;124m\"\u001b[39m)):\n\u001b[0;32m     32\u001b[0m         image_path \u001b[38;5;241m=\u001b[39m os\u001b[38;5;241m.\u001b[39mpath\u001b[38;5;241m.\u001b[39mjoin(dossier_images, filename)\n\u001b[1;32m---> 33\u001b[0m         metadata \u001b[38;5;241m=\u001b[39m \u001b[43mget_image_metadata\u001b[49m\u001b[43m(\u001b[49m\u001b[43mimage_path\u001b[49m\u001b[43m)\u001b[49m\n\u001b[0;32m     34\u001b[0m         metadata_images\u001b[38;5;241m.\u001b[39mappend(metadata)\n\u001b[0;32m     36\u001b[0m json_path \u001b[38;5;241m=\u001b[39m \u001b[38;5;124m\"\u001b[39m\u001b[38;5;124mmetadata_images.json\u001b[39m\u001b[38;5;124m\"\u001b[39m\n",
      "Cell \u001b[1;32mIn[7], line 10\u001b[0m, in \u001b[0;36mget_image_metadata\u001b[1;34m(image_path)\u001b[0m\n\u001b[0;32m      8\u001b[0m \u001b[38;5;28mformat\u001b[39m \u001b[38;5;241m=\u001b[39m img\u001b[38;5;241m.\u001b[39mformat\n\u001b[0;32m      9\u001b[0m exif_data \u001b[38;5;241m=\u001b[39m img\u001b[38;5;241m.\u001b[39m_getexif()\n\u001b[1;32m---> 10\u001b[0m orientation \u001b[38;5;241m=\u001b[39m exif_data\u001b[38;5;241m.\u001b[39mget(\u001b[38;5;241m0x0112\u001b[39m) \u001b[38;5;28;01mif\u001b[39;00m \u001b[38;5;241;43m0x0112\u001b[39;49m\u001b[43m \u001b[49m\u001b[38;5;129;43;01min\u001b[39;49;00m\u001b[43m \u001b[49m\u001b[43mexif_data\u001b[49m \u001b[38;5;28;01melse\u001b[39;00m \u001b[38;5;124m'\u001b[39m\u001b[38;5;124mN/A\u001b[39m\u001b[38;5;124m'\u001b[39m\n\u001b[0;32m     11\u001b[0m creation_date \u001b[38;5;241m=\u001b[39m exif_data\u001b[38;5;241m.\u001b[39mget(\u001b[38;5;241m0x0132\u001b[39m, \u001b[38;5;124m'\u001b[39m\u001b[38;5;124mN/A\u001b[39m\u001b[38;5;124m'\u001b[39m) \u001b[38;5;28;01mif\u001b[39;00m \u001b[38;5;241m0x0132\u001b[39m \u001b[38;5;129;01min\u001b[39;00m exif_data \u001b[38;5;28;01melse\u001b[39;00m \u001b[38;5;124m'\u001b[39m\u001b[38;5;124mN/A\u001b[39m\u001b[38;5;124m'\u001b[39m\n\u001b[0;32m     12\u001b[0m camera_model \u001b[38;5;241m=\u001b[39m exif_data\u001b[38;5;241m.\u001b[39mget(\u001b[38;5;241m0x0110\u001b[39m, \u001b[38;5;124m'\u001b[39m\u001b[38;5;124mN/A\u001b[39m\u001b[38;5;124m'\u001b[39m) \u001b[38;5;28;01mif\u001b[39;00m \u001b[38;5;241m0x0110\u001b[39m \u001b[38;5;129;01min\u001b[39;00m exif_data \u001b[38;5;28;01melse\u001b[39;00m \u001b[38;5;124m'\u001b[39m\u001b[38;5;124mN/A\u001b[39m\u001b[38;5;124m'\u001b[39m\n",
      "\u001b[1;31mTypeError\u001b[0m: argument of type 'NoneType' is not iterable"
     ]
    }
   ],
   "source": [
    "import os \n",
    "import json\n",
    "from PIL import Image\n",
    "\n",
    "def get_image_metadata(image_path):\n",
    "    with Image.open(image_path) as img:\n",
    "        width, height = img.size\n",
    "        format = img.format\n",
    "        exif_data = img._getexif()\n",
    "        orientation = exif_data.get(0x0112) if 0x0112 in exif_data else 'N/A'\n",
    "        creation_date = exif_data.get(0x0132, 'N/A') if 0x0132 in exif_data else 'N/A'\n",
    "        camera_model = exif_data.get(0x0110, 'N/A') if 0x0110 in exif_data else 'N/A'\n",
    "\n",
    "        metadata = {\n",
    "            'filename': os.path.basename(image_path),\n",
    "            'size': os.path.getsize(image_path),\n",
    "            'format': format,\n",
    "            'orientation': orientation,\n",
    "            'width': width,\n",
    "            'height': height,\n",
    "            'creation_date': creation_date,\n",
    "            'camera_model': camera_model\n",
    "            # Ajoutez d'autres métadonnées si nécessaire\n",
    "        }\n",
    "        \n",
    "        return metadata\n",
    "    \n",
    "dossier_images = \"images\"\n",
    "metadata_images = []\n",
    "for filename in os.listdir(dossier_images):\n",
    "    if filename.endswith((\".jpg\", \".jpeg\", \".png\")):\n",
    "        image_path = os.path.join(dossier_images, filename)\n",
    "        metadata = get_image_metadata(image_path)\n",
    "        metadata_images.append(metadata)\n",
    "\n",
    "json_path = \"metadata_images.json\"\n",
    "with open(json_path, 'w') as json_file:\n",
    "    json.dump(metadata_images, json_file, indent=4)\n",
    "print(\"ok\")"
   ]
  }
 ],
 "metadata": {
  "kernelspec": {
   "display_name": "Python 3",
   "language": "python",
   "name": "python3"
  },
  "language_info": {
   "codemirror_mode": {
    "name": "ipython",
    "version": 3
   },
   "file_extension": ".py",
   "mimetype": "text/x-python",
   "name": "python",
   "nbconvert_exporter": "python",
   "pygments_lexer": "ipython3",
   "version": "3.10.11"
  }
 },
 "nbformat": 4,
 "nbformat_minor": 2
}

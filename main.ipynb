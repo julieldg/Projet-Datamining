{
 "cells": [
  {
   "cell_type": "markdown",
   "metadata": {},
   "source": [
    "## Collecte de données"
   ]
  },
  {
   "cell_type": "code",
   "execution_count": null,
   "metadata": {},
   "outputs": [],
   "source": [
    "import os \n",
    "import json\n",
    "from PIL import Image\n",
    "\n",
    "#récupération des données exif d'une image\n",
    "def get_image_metadata(image_path):\n",
    "    with Image.open(image_path) as img:\n",
    "        width, height = img.size\n",
    "        format = img.format\n",
    "        exif_data = img._getexif()\n",
    "        orientation = exif_data.get(0x0112) if 0x0112 in exif_data else 'N/A'\n",
    "        creation_date = exif_data.get(0x0132, 'N/A') if 0x0132 in exif_data else 'N/A'\n",
    "        camera_model = exif_data.get(0x0110, 'N/A') if 0x0110 in exif_data else 'N/A'\n",
    "\n",
    "        metadata = {\n",
    "            'filename': os.path.basename(image_path),\n",
    "            'size': os.path.getsize(image_path),\n",
    "            'format': format,\n",
    "            'orientation': orientation,\n",
    "            'width': width,\n",
    "            'height': height,\n",
    "            'creation_date': creation_date,\n",
    "            'camera_model': camera_model\n",
    "            # Ajoutez d'autres métadonnées si nécessaire\n",
    "        } \n",
    "        return metadata\n",
    "    \n",
    "#parcourt les images du dossier image et crée un tableau avec les infos de ces images\n",
    "dossier_images = \"images\"\n",
    "metadata_images = []\n",
    "\n",
    "for filename in os.listdir(dossier_images):\n",
    "    if filename.endswith((\".jpg\", \".jpeg\", \".png\")):\n",
    "        image_path = os.path.join(dossier_images, filename)\n",
    "        metadata = get_image_metadata(image_path)\n",
    "        metadata_images.append(metadata)\n",
    "\n",
    "#tableau metadata_images dans le fichier json\n",
    "json_path = \"metadata_images.json\"\n",
    "with open(json_path, 'w') as json_file:\n",
    "    json.dump(metadata_images, json_file, indent=4)\n",
    "print(\"ok\")"
   ]
  }
 ],
 "metadata": {
  "kernelspec": {
   "display_name": "Python 3",
   "language": "python",
   "name": "python3"
  },
  "language_info": {
   "codemirror_mode": {
    "name": "ipython",
    "version": 3
   },
   "file_extension": ".py",
   "mimetype": "text/x-python",
   "name": "python",
   "nbconvert_exporter": "python",
   "pygments_lexer": "ipython3",
   "version": "3.10.11"
  }
 },
 "nbformat": 4,
 "nbformat_minor": 2
}

{
 "cells": [
  {
   "cell_type": "markdown",
   "metadata": {},
   "source": [
    "## Collecte de données"
   ]
  },
  {
   "cell_type": "code",
   "execution_count": 1,
   "metadata": {},
   "outputs": [
    {
     "name": "stdout",
     "output_type": "stream",
     "text": [
      "Requirement already satisfied: Pillow in /Users/julieludwig/Library/Python/3.8/lib/python/site-packages (10.2.0)\n",
      "Requirement already satisfied: sparqlwrapper in /Users/julieludwig/Library/Python/3.8/lib/python/site-packages (2.0.0)\n",
      "Requirement already satisfied: pandas in /Users/julieludwig/Library/Python/3.8/lib/python/site-packages (2.0.3)\n",
      "Requirement already satisfied: requests in /Users/julieludwig/Library/Python/3.8/lib/python/site-packages (2.31.0)\n",
      "Requirement already satisfied: rdflib>=6.1.1 in /Users/julieludwig/Library/Python/3.8/lib/python/site-packages (from sparqlwrapper) (7.0.0)\n",
      "Requirement already satisfied: numpy>=1.20.3; python_version < \"3.10\" in /Users/julieludwig/Library/Python/3.8/lib/python/site-packages (from pandas) (1.24.4)\n",
      "Requirement already satisfied: python-dateutil>=2.8.2 in /Users/julieludwig/Library/Python/3.8/lib/python/site-packages (from pandas) (2.9.0.post0)\n",
      "Requirement already satisfied: tzdata>=2022.1 in /Users/julieludwig/Library/Python/3.8/lib/python/site-packages (from pandas) (2024.1)\n",
      "Requirement already satisfied: pytz>=2020.1 in /Users/julieludwig/Library/Python/3.8/lib/python/site-packages (from pandas) (2024.1)\n",
      "Requirement already satisfied: certifi>=2017.4.17 in /Users/julieludwig/Library/Python/3.8/lib/python/site-packages (from requests) (2024.2.2)\n",
      "Requirement already satisfied: idna<4,>=2.5 in /Users/julieludwig/Library/Python/3.8/lib/python/site-packages (from requests) (3.6)\n",
      "Requirement already satisfied: charset-normalizer<4,>=2 in /Users/julieludwig/Library/Python/3.8/lib/python/site-packages (from requests) (3.3.2)\n",
      "Requirement already satisfied: urllib3<3,>=1.21.1 in /Users/julieludwig/Library/Python/3.8/lib/python/site-packages (from requests) (2.2.1)\n",
      "Requirement already satisfied: pyparsing<4,>=2.1.0 in /Users/julieludwig/Library/Python/3.8/lib/python/site-packages (from rdflib>=6.1.1->sparqlwrapper) (3.1.2)\n",
      "Requirement already satisfied: isodate<0.7.0,>=0.6.0 in /Users/julieludwig/Library/Python/3.8/lib/python/site-packages (from rdflib>=6.1.1->sparqlwrapper) (0.6.1)\n",
      "Requirement already satisfied: six>=1.5 in /Library/Developer/CommandLineTools/Library/Frameworks/Python3.framework/Versions/3.8/lib/python3.8/site-packages (from python-dateutil>=2.8.2->pandas) (1.15.0)\n",
      "\u001b[33mWARNING: You are using pip version 19.2.3, however version 24.0 is available.\n",
      "You should consider upgrading via the 'pip install --upgrade pip' command.\u001b[0m\n"
     ]
    }
   ],
   "source": [
    "!pip3 install --user Pillow sparqlwrapper pandas requests"
   ]
  },
  {
   "cell_type": "code",
   "execution_count": 2,
   "metadata": {},
   "outputs": [
    {
     "name": "stderr",
     "output_type": "stream",
     "text": [
      "/Users/julieludwig/Library/Python/3.8/lib/python/site-packages/urllib3/__init__.py:35: NotOpenSSLWarning: urllib3 v2 only supports OpenSSL 1.1.1+, currently the 'ssl' module is compiled with 'LibreSSL 2.8.3'. See: https://github.com/urllib3/urllib3/issues/3020\n",
      "  warnings.warn(\n"
     ]
    }
   ],
   "source": [
    "import os \n",
    "import json\n",
    "from PIL import Image\n",
    "import sys\n",
    "import pandas as pd\n",
    "from SPARQLWrapper import SPARQLWrapper, JSON\n",
    "import requests\n",
    "import shutil"
   ]
  },
  {
   "cell_type": "markdown",
   "metadata": {},
   "source": [
    "On créé un dossier image et on télécharge 100 images de notre choix."
   ]
  },
  {
   "cell_type": "code",
   "execution_count": null,
   "metadata": {},
   "outputs": [],
   "source": [
    "#os.mkdir(\"image\")\n",
    "endpoint_url = \"https://query.wikidata.org/sparql\"\n",
    "\n",
    "query= \"\"\"\n",
    "SELECT DISTINCT ?horse ?horseLabel ?image WHERE {\n",
    "    ?horse wdt:P31 wd:Q726.\n",
    "     ?horse wdt:P18 ?image. \n",
    "    SERVICE wikibase:label { bd:serviceParam wikibase:language \"fr\". }\n",
    "    }\n",
    "LIMIT 100\n",
    "\"\"\"\n",
    "def get_results(endpoint_url, query):\n",
    "    user_agent = \"WDQS-example Python/%s.%s\" % (\n",
    "        sys.version_info[0],\n",
    "        sys.version_info[1],\n",
    "    )\n",
    "    sparql = SPARQLWrapper(endpoint_url, agent=user_agent)\n",
    "    sparql.setQuery(query)\n",
    "    sparql.setReturnFormat(JSON)\n",
    "    return sparql.query().convert()\n",
    "\n",
    "array=[]\n",
    "results = get_results(endpoint_url, query)\n",
    "\n",
    "for result in results[\"results\"][\"bindings\"]:\n",
    "    array.append(\n",
    "            (\n",
    "                    result[\"horseLabel\"][\"value\"],\n",
    "                    result[\"image\"][\"value\"],\n",
    "            )\n",
    "    )\n",
    "dataframe = pd.DataFrame(array, columns=[\"car\", \"image\"])\n",
    "dataframe = dataframe.astype(\n",
    "        dtype={\"car\": \"<U200\", \"image\": \"<U200\"}\n",
    ")\n",
    "\n",
    "def download_image(url, folder_path):\n",
    "    headers = {\"User-Agent\": \"mozilla/5.0\"}\n",
    "    request = requests.get(url, allow_redirects=True, headers=headers, stream=True)\n",
    "    if request.status_code == 200:\n",
    "        filename = os.path.basename(url)\n",
    "        filepath = os.path.join(folder_path, filename)\n",
    "        with open(filepath, \"wb\") as image:\n",
    "            request.raw.decode_content = True\n",
    "            shutil.copyfileobj(request.raw, image)\n",
    "    return request.status_code\n",
    "\n",
    "folder_path = \"./images\"\n",
    "dataframe.image.apply(lambda url: download_image(url, folder_path))"
   ]
  },
  {
   "cell_type": "markdown",
   "metadata": {},
   "source": [
    "Création du tableau json contenant les métadonnées de chaque image du dossier images"
   ]
  },
  {
   "cell_type": "code",
   "execution_count": 6,
   "metadata": {},
   "outputs": [
    {
     "name": "stdout",
     "output_type": "stream",
     "text": [
      "ok\n"
     ]
    }
   ],
   "source": [
    "import os \n",
    "import json\n",
    "from PIL import Image\n",
    "\n",
    "#récupération des données exif d'une image\n",
    "def get_image_metadata(image_path):\n",
    "    try:\n",
    "        with Image.open(image_path) as img:\n",
    "            width, height = img.size\n",
    "            format = img.format\n",
    "            exif_data = img._getexif()\n",
    "\n",
    "            orientation = 'N/A'\n",
    "            creation_date = 'N/A'\n",
    "            camera_model = 'N/A'\n",
    "\n",
    "            #si image contient des données exif: spécification des infos\n",
    "            if exif_data:\n",
    "                orientation = exif_data.get(0x0112) if 0x0112 in exif_data else 'N/A'\n",
    "                creation_date = exif_data.get(0x0132, 'N/A') if 0x0132 in exif_data else 'N/A'\n",
    "                camera_model = exif_data.get(0x0110, 'N/A') if 0x0110 in exif_data else 'N/A'\n",
    "            \n",
    "            metadata = {\n",
    "                'filename': os.path.basename(image_path),\n",
    "                'size': os.path.getsize(image_path),\n",
    "                'format': format,\n",
    "                'orientation': orientation,\n",
    "                'width': width,\n",
    "                'height': height,\n",
    "                'creation_date': creation_date,\n",
    "                'camera_model': camera_model\n",
    "            } \n",
    "            return metadata\n",
    "        \n",
    "    except FileNotFoundError:\n",
    "        print(\"Error: Image file not found: {image_path}\")\n",
    "        return {}\n",
    "    \n",
    "#parcourt les images du dossier image et crée un tableau avec les infos de ces images\n",
    "dossier_images = \"images\"\n",
    "metadata_images = []\n",
    "\n",
    "for filename in os.listdir(dossier_images):\n",
    "    image_path = os.path.join(dossier_images, filename)\n",
    "    if os.path.isfile(image_path) and os.path.splitext(filename)[-1].lower() in ('.jpg', '.jpeg', '.png'):\n",
    "        metadata = get_image_metadata(image_path)\n",
    "        if metadata:\n",
    "            metadata_images.append(metadata)\n",
    "\n",
    "#tableau metadata_images dans le fichier json\n",
    "json_path = \"metadata_images.json\"\n",
    "with open(json_path, 'w') as json_file:\n",
    "    json.dump(metadata_images, json_file, indent=4, default=str)\n",
    "print(\"ok\")"
   ]
  },
  {
   "cell_type": "code",
   "execution_count": 3,
   "metadata": {},
   "outputs": [],
   "source": []
  }
 ],
 "metadata": {
  "kernelspec": {
   "display_name": "Python 3",
   "language": "python",
   "name": "python3"
  },
  "language_info": {
   "codemirror_mode": {
    "name": "ipython",
    "version": 3
   },
   "file_extension": ".py",
   "mimetype": "text/x-python",
   "name": "python",
   "nbconvert_exporter": "python",
   "pygments_lexer": "ipython3",
   "version": "3.8.2"
  }
 },
 "nbformat": 4,
 "nbformat_minor": 2
}
